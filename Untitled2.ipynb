{
  "nbformat": 4,
  "nbformat_minor": 0,
  "metadata": {
    "colab": {
      "name": "Untitled2.ipynb",
      "provenance": [],
      "toc_visible": true,
      "authorship_tag": "ABX9TyNJ7Q9T2KeE31ity9vBXoPn",
      "include_colab_link": true
    },
    "kernelspec": {
      "name": "python3",
      "display_name": "Python 3"
    }
  },
  "cells": [
    {
      "cell_type": "markdown",
      "metadata": {
        "id": "view-in-github",
        "colab_type": "text"
      },
      "source": [
        "<a href=\"https://colab.research.google.com/github/19PA1A04E6/19PA1A04E6/blob/master/Untitled2.ipynb\" target=\"_parent\"><img src=\"https://colab.research.google.com/assets/colab-badge.svg\" alt=\"Open In Colab\"/></a>"
      ]
    },
    {
      "cell_type": "code",
      "metadata": {
        "id": "fgC7mOdVaEva",
        "colab_type": "code",
        "colab": {
          "base_uri": "https://localhost:8080/",
          "height": 937
        },
        "outputId": "e6954c0d-1892-4ed5-a6b0-c6e078727295"
      },
      "source": [
        "import pandas as pd\n",
        "a=pd.read_csv(\"/content/sample_data/anscombe.json\")\n",
        "print(a)\n",
        "print(a.info())"
      ],
      "execution_count": 7,
      "outputs": [
        {
          "output_type": "stream",
          "text": [
            "                                          [\n",
            "  {\"Series\":\"I\"    \"X\":10.0  \"Y\":8.04}  NaN\n",
            "                   \"X\":8.0   \"Y\":6.95}  NaN\n",
            "                   \"X\":13.0  \"Y\":7.58}  NaN\n",
            "                   \"X\":9.0   \"Y\":8.81}  NaN\n",
            "                   \"X\":11.0  \"Y\":8.33}  NaN\n",
            "                   \"X\":14.0  \"Y\":9.96}  NaN\n",
            "                   \"X\":6.0   \"Y\":7.24}  NaN\n",
            "                   \"X\":4.0   \"Y\":4.26}  NaN\n",
            "                   \"X\":12.0  \"Y\":10.84} NaN\n",
            "                   \"X\":7.0   \"Y\":4.81}  NaN\n",
            "                   \"X\":5.0   \"Y\":5.68}  NaN\n",
            "  {\"Series\":\"II\"   \"X\":10.0  \"Y\":9.14}  NaN\n",
            "                   \"X\":8.0   \"Y\":8.14}  NaN\n",
            "                   \"X\":13.0  \"Y\":8.74}  NaN\n",
            "                   \"X\":9.0   \"Y\":8.77}  NaN\n",
            "                   \"X\":11.0  \"Y\":9.26}  NaN\n",
            "                   \"X\":14.0  \"Y\":8.10}  NaN\n",
            "                   \"X\":6.0   \"Y\":6.13}  NaN\n",
            "                   \"X\":4.0   \"Y\":3.10}  NaN\n",
            "                   \"X\":12.0  \"Y\":9.13}  NaN\n",
            "                   \"X\":7.0   \"Y\":7.26}  NaN\n",
            "                   \"X\":5.0   \"Y\":4.74}  NaN\n",
            "  {\"Series\":\"III\"  \"X\":10.0  \"Y\":7.46}  NaN\n",
            "                   \"X\":8.0   \"Y\":6.77}  NaN\n",
            "                   \"X\":13.0  \"Y\":12.74} NaN\n",
            "                   \"X\":9.0   \"Y\":7.11}  NaN\n",
            "                   \"X\":11.0  \"Y\":7.81}  NaN\n",
            "                   \"X\":14.0  \"Y\":8.84}  NaN\n",
            "                   \"X\":6.0   \"Y\":6.08}  NaN\n",
            "                   \"X\":4.0   \"Y\":5.39}  NaN\n",
            "                   \"X\":12.0  \"Y\":8.15}  NaN\n",
            "                   \"X\":7.0   \"Y\":6.42}  NaN\n",
            "                   \"X\":5.0   \"Y\":5.73}  NaN\n",
            "  {\"Series\":\"IV\"   \"X\":8.0   \"Y\":6.58}  NaN\n",
            "                             \"Y\":5.76}  NaN\n",
            "                             \"Y\":7.71}  NaN\n",
            "                             \"Y\":8.84}  NaN\n",
            "                             \"Y\":8.47}  NaN\n",
            "                             \"Y\":7.04}  NaN\n",
            "                             \"Y\":5.25}  NaN\n",
            "                   \"X\":19.0  \"Y\":12.50} NaN\n",
            "                   \"X\":8.0   \"Y\":5.56}  NaN\n",
            "                             \"Y\":7.91}  NaN\n",
            "                             \"Y\":6.89}  NaN\n",
            "]                 NaN       NaN         NaN\n",
            "<class 'pandas.core.frame.DataFrame'>\n",
            "MultiIndex: 45 entries, (  {\"Series\":\"I\",  \"X\":10.0,  \"Y\":8.04}) to (], nan, nan)\n",
            "Data columns (total 1 columns):\n",
            "[    0 non-null float64\n",
            "dtypes: float64(1)\n",
            "memory usage: 1023.0+ bytes\n",
            "None\n"
          ],
          "name": "stdout"
        }
      ]
    },
    {
      "cell_type": "code",
      "metadata": {
        "id": "xpUMBLk4k0hV",
        "colab_type": "code",
        "colab": {
          "base_uri": "https://localhost:8080/",
          "height": 34
        },
        "outputId": "fa0b045f-42c7-4bee-9655-28f0f43ca8ca"
      },
      "source": [
        "a=1\n",
        "print(a)\n"
      ],
      "execution_count": 4,
      "outputs": [
        {
          "output_type": "stream",
          "text": [
            "1\n"
          ],
          "name": "stdout"
        }
      ]
    },
    {
      "cell_type": "code",
      "metadata": {
        "id": "sjgXLm0hl13Q",
        "colab_type": "code",
        "colab": {
          "base_uri": "https://localhost:8080/",
          "height": 34
        },
        "outputId": "d768f926-a892-4595-b9ec-e1a7be91a6c5"
      },
      "source": [
        "a=1\n",
        "print(a)"
      ],
      "execution_count": 5,
      "outputs": [
        {
          "output_type": "stream",
          "text": [
            "1\n"
          ],
          "name": "stdout"
        }
      ]
    }
  ]
}